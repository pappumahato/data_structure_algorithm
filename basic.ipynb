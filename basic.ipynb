{
 "cells": [
  {
   "cell_type": "code",
   "execution_count": 2,
   "metadata": {},
   "outputs": [
    {
     "name": "stdout",
     "output_type": "stream",
     "text": [
      "Sum of numbers  15\n"
     ]
    }
   ],
   "source": [
    "#Sum of n naturals numbers\n",
    "def sum_of_numbers(lst):\n",
    "    total=0\n",
    "    for i in range(len(lst)):\n",
    "        total=total+lst[i]\n",
    "    return total\n",
    "\n",
    "lst=[1,2,3,4,5]\n",
    "res=sum_of_numbers(lst)\n",
    "print('Sum of numbers ',res)"
   ]
  },
  {
   "cell_type": "code",
   "execution_count": 3,
   "metadata": {},
   "outputs": [
    {
     "name": "stdout",
     "output_type": "stream",
     "text": [
      "Sum of numbers  15.0\n"
     ]
    }
   ],
   "source": [
    "#Sum of n naturals numbers\n",
    "def sum_of_numbers(lst):\n",
    "    n=len(lst)\n",
    "    total=(n*(n+1))/2\n",
    "    return total\n",
    "\n",
    "lst=[1,2,3,4,5]\n",
    "res=sum_of_numbers(lst)\n",
    "print('Sum of numbers ',res)"
   ]
  },
  {
   "cell_type": "code",
   "execution_count": null,
   "metadata": {},
   "outputs": [],
   "source": []
  }
 ],
 "metadata": {
  "kernelspec": {
   "display_name": "Python 3",
   "language": "python",
   "name": "python3"
  },
  "language_info": {
   "codemirror_mode": {
    "name": "ipython",
    "version": 3
   },
   "file_extension": ".py",
   "mimetype": "text/x-python",
   "name": "python",
   "nbconvert_exporter": "python",
   "pygments_lexer": "ipython3",
   "version": "3.10.10"
  },
  "orig_nbformat": 4
 },
 "nbformat": 4,
 "nbformat_minor": 2
}
